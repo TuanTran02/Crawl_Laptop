{
 "cells": [
  {
   "cell_type": "code",
   "execution_count": 46,
   "metadata": {},
   "outputs": [
    {
     "name": "stdout",
     "output_type": "stream",
     "text": [
      "Modules imported\n"
     ]
    }
   ],
   "source": [
    "import requests\n",
    "import re\n",
    "from requests import get\n",
    "from bs4 import BeautifulSoup\n",
    "import bs4\n",
    "import pandas as pd\n",
    "import numpy as np\n",
    "from selenium import webdriver\n",
    "from selenium.common.exceptions import TimeoutException\n",
    "from selenium.webdriver.common.keys import Keys\n",
    "from selenium.webdriver.support.ui import WebDriverWait\n",
    "from selenium.webdriver.support import expected_conditions as EC\n",
    "from selenium.webdriver.common.by import By\n",
    "from selenium.webdriver.common.action_chains import ActionChains\n",
    "from time import sleep\n",
    "\n",
    "from selenium.webdriver.chrome.service import Service\n",
    "from webdriver_manager.chrome import ChromeDriverManager\n",
    "\n",
    "print(\"Modules imported\")"
   ]
  },
  {
   "cell_type": "code",
   "execution_count": 47,
   "metadata": {},
   "outputs": [
    {
     "name": "stdout",
     "output_type": "stream",
     "text": [
      "Driver setup and browser opened\n"
     ]
    }
   ],
   "source": [
    "options = webdriver.ChromeOptions()\n",
    "options.add_argument('--ignore-certificate-errors')\n",
    "options.add_argument('--incognito')\n",
    "driver = webdriver.Chrome(service=Service(ChromeDriverManager().install()))\n",
    "driver.implicitly_wait(0)\n",
    "driver.maximize_window()\n",
    "print(\"Driver setup and browser opened\")"
   ]
  },
  {
   "cell_type": "code",
   "execution_count": 48,
   "metadata": {},
   "outputs": [],
   "source": [
    "files = open('fptshop_laptop.txt','r')\n",
    "lines = files.readlines()\n",
    "list_item = []\n",
    "for line in lines:\n",
    "    dict_item = {}\n",
    "    html = driver.get(line.strip('\\n'))\n",
    "    sleep(3)\n",
    "    click_detail = driver.find_element(By.CSS_SELECTOR,('#root > main > div > div.l-pd-body > div > div.l-pd-body__wrapper > div.l-pd-body__right > div > div > div'))\n",
    "    sleep(1)\n",
    "    click_detail.click()\n",
    "    soup = BeautifulSoup(driver.page_source, 'html.parser')\n",
    "    detail = soup.find('div', class_='c-modal__row').text\n",
    "    detail = detail.replace('Thông tin hàng hóa', '').replace('\\xa0', '')\n",
    "    \n",
    "    brand_index = detail.find('Thương hiệu')\n",
    "    origin_index = detail.find('Xuất xứ')\n",
    "    release_date_index = detail.find('Thời điểm ra mắt')\n",
    "    warranty_period_index = detail.find('Thời gian bảo hành (tháng)')\n",
    "    storage_guide_index = detail.find('Hướng dẫn bảo quản')\n",
    "\n",
    "    # Trích xuất giá trị 'Thương hiệu'\n",
    "    brand_start = detail.find(':', brand_index) + 1\n",
    "    brand_end = detail.find('Thương hiệu', brand_start)\n",
    "    brand = detail[brand_start:brand_end].strip()\n",
    "    dict_item['Thương hiệu'] = brand\n",
    "\n",
    "    # Trích xuất giá trị 'Xuất xứ'\n",
    "    origin_start = detail.find(':', origin_index) + 1\n",
    "    origin_end = detail.find('Thời điểm ra mắt', origin_start)\n",
    "    origin = detail[origin_start:origin_end].strip()\n",
    "    dict_item['Xuất xứ'] = origin\n",
    "\n",
    "    # Trích xuất giá trị 'Thời điểm ra mắt'\n",
    "    release_date_start = detail.find(':', release_date_index) + 1\n",
    "    release_date_end = detail.find('Thời gian bảo hành', release_date_start)\n",
    "    release_date = detail[release_date_start:release_date_end].strip()\n",
    "    dict_item['Thời điểm ra mắt'] = release_date\n",
    "\n",
    "    # Trích xuất giá trị 'Thời gian bảo hành'\n",
    "    warranty_period_start = detail.find(':', warranty_period_index) + 1\n",
    "    warranty_period_end = detail.find('Hướng dẫn bảo quản', warranty_period_start)\n",
    "    warranty_period = detail[warranty_period_start:warranty_period_end].strip()\n",
    "    dict_item['Thời gian bảo hành'] = warranty_period\n",
    "\n",
    "    # Trích xuất giá trị 'Hướng dẫn bảo quản'\n",
    "    storage_guide_start = detail.find(':', storage_guide_index) + 1\n",
    "    storage_guide_end = detail.find('Hướng dẫn sử dụng', storage_guide_start)\n",
    "    storage_guide = detail[storage_guide_start:storage_guide_end].strip()\n",
    "    dict_item['Hướng dẫn bảo hành'] = storage_guide\n",
    "    \n",
    "    list_item.append(dict_item)"
   ]
  },
  {
   "cell_type": "code",
   "execution_count": 49,
   "metadata": {},
   "outputs": [
    {
     "data": {
      "text/html": [
       "<div>\n",
       "<style scoped>\n",
       "    .dataframe tbody tr th:only-of-type {\n",
       "        vertical-align: middle;\n",
       "    }\n",
       "\n",
       "    .dataframe tbody tr th {\n",
       "        vertical-align: top;\n",
       "    }\n",
       "\n",
       "    .dataframe thead th {\n",
       "        text-align: right;\n",
       "    }\n",
       "</style>\n",
       "<table border=\"1\" class=\"dataframe\">\n",
       "  <thead>\n",
       "    <tr style=\"text-align: right;\">\n",
       "      <th></th>\n",
       "      <th>Thương hiệu</th>\n",
       "      <th>Xuất xứ</th>\n",
       "      <th>Thời điểm ra mắt</th>\n",
       "      <th>Thời gian bảo hành</th>\n",
       "      <th>Hướng dẫn bảo hành</th>\n",
       "    </tr>\n",
       "  </thead>\n",
       "  <tbody>\n",
       "    <tr>\n",
       "      <th>0</th>\n",
       "      <td>Asus</td>\n",
       "      <td>Trung Quốc</td>\n",
       "      <td>4/2023</td>\n",
       "      <td>24</td>\n",
       "      <td>Để nơi khô ráo, nhẹ tay, dễ vỡ.</td>\n",
       "    </tr>\n",
       "    <tr>\n",
       "      <th>1</th>\n",
       "      <td>HP</td>\n",
       "      <td>Trung Quốc</td>\n",
       "      <td>2022</td>\n",
       "      <td>12</td>\n",
       "      <td>Để nơi khô ráo, nhẹ tay, dễ vỡ.</td>\n",
       "    </tr>\n",
       "    <tr>\n",
       "      <th>2</th>\n",
       "      <td>Lenovo</td>\n",
       "      <td>Nội địa - Trung Quốc</td>\n",
       "      <td>05/05/2023</td>\n",
       "      <td>24</td>\n",
       "      <td>Để nơi khô ráo, nhẹ tay, dễ vỡ.</td>\n",
       "    </tr>\n",
       "    <tr>\n",
       "      <th>3</th>\n",
       "      <td>Acer</td>\n",
       "      <td>Trung Quốc</td>\n",
       "      <td>2021</td>\n",
       "      <td>12</td>\n",
       "      <td>Để nơi khô ráo, nhẹ tay, dễ vỡ.</td>\n",
       "    </tr>\n",
       "    <tr>\n",
       "      <th>4</th>\n",
       "      <td>Dell</td>\n",
       "      <td>Trung Quốc</td>\n",
       "      <td>2022</td>\n",
       "      <td>12</td>\n",
       "      <td>Để nơi khô ráo, nhẹ tay, dễ vỡ.</td>\n",
       "    </tr>\n",
       "    <tr>\n",
       "      <th>...</th>\n",
       "      <td>...</td>\n",
       "      <td>...</td>\n",
       "      <td>...</td>\n",
       "      <td>...</td>\n",
       "      <td>...</td>\n",
       "    </tr>\n",
       "    <tr>\n",
       "      <th>227</th>\n",
       "      <td>MSI</td>\n",
       "      <td>Trung Quốc</td>\n",
       "      <td>2023</td>\n",
       "      <td>24</td>\n",
       "      <td>Để nơi khô ráo, nhẹ tay, dễ vỡ.</td>\n",
       "    </tr>\n",
       "    <tr>\n",
       "      <th>228</th>\n",
       "      <td>MSI</td>\n",
       "      <td>Trung Quốc</td>\n",
       "      <td>2023</td>\n",
       "      <td>24</td>\n",
       "      <td>Để nơi khô ráo, nhẹ tay, dễ vỡ.</td>\n",
       "    </tr>\n",
       "    <tr>\n",
       "      <th>229</th>\n",
       "      <td>MSI</td>\n",
       "      <td>Trung Quốc</td>\n",
       "      <td>2023</td>\n",
       "      <td>24</td>\n",
       "      <td>Để nơi khô ráo, nhẹ tay, dễ vỡ.</td>\n",
       "    </tr>\n",
       "    <tr>\n",
       "      <th>230</th>\n",
       "      <td>MSI</td>\n",
       "      <td>Trung Quốc</td>\n",
       "      <td>2023</td>\n",
       "      <td>24</td>\n",
       "      <td>Để nơi khô ráo, nhẹ tay, dễ vỡ.</td>\n",
       "    </tr>\n",
       "    <tr>\n",
       "      <th>231</th>\n",
       "      <td>MSI</td>\n",
       "      <td>Trung Quốc</td>\n",
       "      <td>2023</td>\n",
       "      <td>24</td>\n",
       "      <td>Để nơi khô ráo, nhẹ tay, dễ vỡ.</td>\n",
       "    </tr>\n",
       "  </tbody>\n",
       "</table>\n",
       "<p>232 rows × 5 columns</p>\n",
       "</div>"
      ],
      "text/plain": [
       "    Thương hiệu               Xuất xứ Thời điểm ra mắt Thời gian bảo hành  \\\n",
       "0          Asus            Trung Quốc           4/2023                 24   \n",
       "1            HP            Trung Quốc             2022                 12   \n",
       "2        Lenovo  Nội địa - Trung Quốc       05/05/2023                 24   \n",
       "3          Acer            Trung Quốc             2021                 12   \n",
       "4          Dell            Trung Quốc             2022                 12   \n",
       "..          ...                   ...              ...                ...   \n",
       "227         MSI            Trung Quốc             2023                 24   \n",
       "228         MSI            Trung Quốc             2023                 24   \n",
       "229         MSI            Trung Quốc             2023                 24   \n",
       "230         MSI            Trung Quốc             2023                 24   \n",
       "231         MSI            Trung Quốc             2023                 24   \n",
       "\n",
       "                  Hướng dẫn bảo hành  \n",
       "0    Để nơi khô ráo, nhẹ tay, dễ vỡ.  \n",
       "1    Để nơi khô ráo, nhẹ tay, dễ vỡ.  \n",
       "2    Để nơi khô ráo, nhẹ tay, dễ vỡ.  \n",
       "3    Để nơi khô ráo, nhẹ tay, dễ vỡ.  \n",
       "4    Để nơi khô ráo, nhẹ tay, dễ vỡ.  \n",
       "..                               ...  \n",
       "227  Để nơi khô ráo, nhẹ tay, dễ vỡ.  \n",
       "228  Để nơi khô ráo, nhẹ tay, dễ vỡ.  \n",
       "229  Để nơi khô ráo, nhẹ tay, dễ vỡ.  \n",
       "230  Để nơi khô ráo, nhẹ tay, dễ vỡ.  \n",
       "231  Để nơi khô ráo, nhẹ tay, dễ vỡ.  \n",
       "\n",
       "[232 rows x 5 columns]"
      ]
     },
     "execution_count": 49,
     "metadata": {},
     "output_type": "execute_result"
    }
   ],
   "source": [
    "import pandas as pd\n",
    "df = pd.DataFrame(list_item)\n",
    "df"
   ]
  },
  {
   "cell_type": "code",
   "execution_count": 55,
   "metadata": {},
   "outputs": [
    {
     "data": {
      "text/plain": [
       "Trung Quốc    232\n",
       "Name: Xuất xứ, dtype: int64"
      ]
     },
     "execution_count": 55,
     "metadata": {},
     "output_type": "execute_result"
    }
   ],
   "source": [
    "df['Xuất xứ'] = 'Trung Quốc'\n",
    "df['Xuất xứ'].value_counts()"
   ]
  },
  {
   "cell_type": "code",
   "execution_count": 57,
   "metadata": {},
   "outputs": [],
   "source": [
    "df.to_csv('fpt_laptop_information.csv')"
   ]
  },
  {
   "cell_type": "code",
   "execution_count": null,
   "metadata": {},
   "outputs": [],
   "source": []
  }
 ],
 "metadata": {
  "kernelspec": {
   "display_name": "Python 3.8.3 ('base')",
   "language": "python",
   "name": "python3"
  },
  "language_info": {
   "codemirror_mode": {
    "name": "ipython",
    "version": 3
   },
   "file_extension": ".py",
   "mimetype": "text/x-python",
   "name": "python",
   "nbconvert_exporter": "python",
   "pygments_lexer": "ipython3",
   "version": "3.8.3"
  },
  "vscode": {
   "interpreter": {
    "hash": "b3ee267351c4da40ab14c50a707137ef3c5fd8bc91839425b2bb3b2ee8e3d6f8"
   }
  }
 },
 "nbformat": 4,
 "nbformat_minor": 2
}
