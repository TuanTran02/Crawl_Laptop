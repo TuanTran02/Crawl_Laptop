{
 "cells": [
  {
   "cell_type": "code",
   "execution_count": 88,
   "metadata": {},
   "outputs": [
    {
     "name": "stdout",
     "output_type": "stream",
     "text": [
      "Modules imported\n"
     ]
    }
   ],
   "source": [
    "import requests\n",
    "import re\n",
    "from requests import get\n",
    "from bs4 import BeautifulSoup\n",
    "import bs4\n",
    "import pandas as pd\n",
    "import numpy as np\n",
    "from selenium import webdriver\n",
    "from selenium.common.exceptions import TimeoutException\n",
    "from selenium.webdriver.common.keys import Keys\n",
    "from selenium.webdriver.support.ui import WebDriverWait\n",
    "from selenium.webdriver.support import expected_conditions as EC\n",
    "from selenium.webdriver.common.by import By\n",
    "from selenium.webdriver.common.action_chains import ActionChains\n",
    "from time import sleep\n",
    "\n",
    "from selenium.webdriver.chrome.service import Service\n",
    "from webdriver_manager.chrome import ChromeDriverManager\n",
    "\n",
    "print(\"Modules imported\")"
   ]
  },
  {
   "cell_type": "code",
   "execution_count": 89,
   "metadata": {},
   "outputs": [
    {
     "name": "stdout",
     "output_type": "stream",
     "text": [
      "Driver setup and browser opened\n"
     ]
    }
   ],
   "source": [
    "options = webdriver.ChromeOptions()\n",
    "options.add_argument('--ignore-certificate-errors')\n",
    "options.add_argument('--incognito')\n",
    "driver = webdriver.Chrome(service=Service(ChromeDriverManager().install()))\n",
    "driver.implicitly_wait(0)\n",
    "driver.maximize_window()\n",
    "print(\"Driver setup and browser opened\")"
   ]
  },
  {
   "cell_type": "code",
   "execution_count": 90,
   "metadata": {},
   "outputs": [],
   "source": [
    "#Lấy link trang web cần crawl\n",
    "driver.get('https://fptshop.com.vn/dien-thoai?sort=ban-chay-nhat&trang=11')"
   ]
  },
  {
   "cell_type": "code",
   "execution_count": 91,
   "metadata": {},
   "outputs": [],
   "source": [
    "#driver.page_source: đọc trang web bằng bs4 theo định dạng html\n",
    "soup = BeautifulSoup(driver.page_source, 'html.parser')"
   ]
  },
  {
   "cell_type": "code",
   "execution_count": 107,
   "metadata": {},
   "outputs": [],
   "source": [
    "#Trích tất cả sản phẩm trên web\n",
    "list_links = ''\n",
    "products = soup.find('div', class_='cdt-product-wrapper m-b-20')\n",
    "a = products.find_all('div', class_='cdt-product product-sale')\n",
    "x = products.find_all('div', class_='cdt-product')\n",
    "head_link = 'https://fptshop.com.vn'\n",
    "for i in a:\n",
    "    b = i.find('div', class_='cdt-product__info').find('h3')\n",
    "    c = head_link + b.find('a').get('href') + '\\n'\n",
    "    list_links += c\n",
    "for ele in x:\n",
    "    y = ele.find('div', class_='cdt-product__info').find('h3')\n",
    "    z = head_link + y.find('a').get('href') + '\\n'\n",
    "    list_links += z\n",
    "#Lưu links vô file text\n",
    "with open('fptshop_phones.txt', 'w') as f:\n",
    "    f.write(list_links)"
   ]
  },
  {
   "cell_type": "code",
   "execution_count": null,
   "metadata": {},
   "outputs": [],
   "source": []
  }
 ],
 "metadata": {
  "kernelspec": {
   "display_name": "Python 3.8.3 ('base')",
   "language": "python",
   "name": "python3"
  },
  "language_info": {
   "codemirror_mode": {
    "name": "ipython",
    "version": 3
   },
   "file_extension": ".py",
   "mimetype": "text/x-python",
   "name": "python",
   "nbconvert_exporter": "python",
   "pygments_lexer": "ipython3",
   "version": "3.8.3"
  },
  "vscode": {
   "interpreter": {
    "hash": "b3ee267351c4da40ab14c50a707137ef3c5fd8bc91839425b2bb3b2ee8e3d6f8"
   }
  }
 },
 "nbformat": 4,
 "nbformat_minor": 2
}
